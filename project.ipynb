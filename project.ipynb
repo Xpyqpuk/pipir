{
 "cells": [
  {
   "cell_type": "code",
   "execution_count": 1,
   "metadata": {},
   "outputs": [],
   "source": [
    "import os\n",
    "import psutil\n",
    "import matplotlib.pyplot as plt\n",
    "process = psutil.Process(os.getpid())\n",
    "%matplotlib inline\n",
    "sizes = [30.35, 34.44, 88.75, 93.98, 106.9, 105.5]"
   ]
  },
  {
   "cell_type": "code",
   "execution_count": 2,
   "metadata": {
    "scrolled": true
   },
   "outputs": [
    {
     "name": "stdout",
     "output_type": "stream",
     "text": [
      "2018-10-06 02:33:51,901 INFO     Found domain C:\\Users\\gdun9\\pipir-master\\benchmarks\\airport\\domain01.pddl\n",
      "2018-10-06 02:33:51,903 INFO     using search: astar_search\n",
      "2018-10-06 02:33:51,903 INFO     using heuristic: BlindHeuristic\n",
      "2018-10-06 02:33:51,904 INFO     Parsing Domain C:\\Users\\gdun9\\pipir-master\\benchmarks\\airport\\domain01.pddl\n",
      "2018-10-06 02:33:51,922 INFO     Parsing Problem C:\\Users\\gdun9\\pipir-master\\benchmarks\\airport\\task01.pddl\n",
      "2018-10-06 02:33:51,925 INFO     12 Predicates parsed\n",
      "2018-10-06 02:33:51,926 INFO     39 Actions parsed\n",
      "2018-10-06 02:33:51,926 INFO     0 Objects parsed\n",
      "2018-10-06 02:33:51,927 INFO     23 Constants parsed\n",
      "2018-10-06 02:33:51,927 INFO     Grounding start: problem_x\n",
      "2018-10-06 02:33:51,931 INFO     Relevance analysis removed 32 facts\n",
      "2018-10-06 02:33:51,932 INFO     Grounding end: problem_x\n",
      "2018-10-06 02:33:51,933 INFO     78 Variables created\n",
      "2018-10-06 02:33:51,934 INFO     39 Operators created\n",
      "2018-10-06 02:33:51,935 INFO     Search start: problem_x\n",
      "2018-10-06 02:33:51,936 INFO     Initial h value: 1.000000\n",
      "2018-10-06 02:33:51,937 INFO     Goal reached. Start extraction of solution.\n",
      "2018-10-06 02:33:51,938 INFO     11 Nodes expanded\n",
      "2018-10-06 02:33:51,939 INFO     Search end: problem_x\n",
      "2018-10-06 02:33:51,940 INFO     Wall-clock search time: 0.0041\n",
      "2018-10-06 02:33:51,941 INFO     Plan length: 8\n",
      "2018-10-06 02:33:51,944 INFO     validate could not be found on the PATH so the plan can not be validated.\n",
      "2018-10-06 02:33:51,959 INFO     Found domain C:\\Users\\gdun9\\pipir-master\\benchmarks\\airport\\domain03.pddl\n",
      "2018-10-06 02:33:51,960 INFO     using search: astar_search\n",
      "2018-10-06 02:33:51,960 INFO     using heuristic: BlindHeuristic\n",
      "2018-10-06 02:33:51,961 INFO     Parsing Domain C:\\Users\\gdun9\\pipir-master\\benchmarks\\airport\\domain03.pddl\n",
      "2018-10-06 02:33:51,985 INFO     Parsing Problem C:\\Users\\gdun9\\pipir-master\\benchmarks\\airport\\task03.pddl\n",
      "2018-10-06 02:33:51,988 INFO     12 Predicates parsed\n",
      "2018-10-06 02:33:51,989 INFO     41 Actions parsed\n",
      "2018-10-06 02:33:51,989 INFO     0 Objects parsed\n",
      "2018-10-06 02:33:51,991 INFO     24 Constants parsed\n",
      "2018-10-06 02:33:51,991 INFO     Grounding start: problem_x\n",
      "2018-10-06 02:33:51,996 INFO     Relevance analysis removed 51 facts\n",
      "2018-10-06 02:33:51,997 INFO     Grounding end: problem_x\n",
      "2018-10-06 02:33:51,997 INFO     128 Variables created\n",
      "2018-10-06 02:33:51,998 INFO     81 Operators created\n",
      "2018-10-06 02:33:52,001 INFO     Search start: problem_x\n",
      "2018-10-06 02:33:52,002 INFO     Initial h value: 1.000000\n",
      "2018-10-06 02:33:52,011 INFO     Goal reached. Start extraction of solution.\n",
      "2018-10-06 02:33:52,012 INFO     175 Nodes expanded\n",
      "2018-10-06 02:33:52,013 INFO     Search end: problem_x\n",
      "2018-10-06 02:33:52,014 INFO     Wall-clock search time: 0.012\n",
      "2018-10-06 02:33:52,017 INFO     Plan length: 17\n",
      "2018-10-06 02:33:52,026 INFO     validate could not be found on the PATH so the plan can not be validated.\n",
      "2018-10-06 02:33:52,033 INFO     Found domain C:\\Users\\gdun9\\pipir-master\\benchmarks\\airport\\domain05.pddl\n",
      "2018-10-06 02:33:52,034 INFO     using search: astar_search\n",
      "2018-10-06 02:33:52,034 INFO     using heuristic: BlindHeuristic\n",
      "2018-10-06 02:33:52,035 INFO     Parsing Domain C:\\Users\\gdun9\\pipir-master\\benchmarks\\airport\\domain05.pddl\n",
      "2018-10-06 02:33:52,091 INFO     Parsing Problem C:\\Users\\gdun9\\pipir-master\\benchmarks\\airport\\task05.pddl\n",
      "2018-10-06 02:33:52,094 INFO     12 Predicates parsed\n",
      "2018-10-06 02:33:52,095 INFO     120 Actions parsed\n",
      "2018-10-06 02:33:52,095 INFO     0 Objects parsed\n",
      "2018-10-06 02:33:52,096 INFO     46 Constants parsed\n",
      "2018-10-06 02:33:52,097 INFO     Grounding start: problem_x\n",
      "2018-10-06 02:33:52,107 INFO     Relevance analysis removed 79 facts\n",
      "2018-10-06 02:33:52,108 INFO     Grounding end: problem_x\n",
      "2018-10-06 02:33:52,108 INFO     194 Variables created\n",
      "2018-10-06 02:33:52,109 INFO     120 Operators created\n",
      "2018-10-06 02:33:52,109 INFO     Search start: problem_x\n",
      "2018-10-06 02:33:52,110 INFO     Initial h value: 1.000000\n",
      "2018-10-06 02:33:52,113 INFO     Goal reached. Start extraction of solution.\n",
      "2018-10-06 02:33:52,114 INFO     31 Nodes expanded\n",
      "2018-10-06 02:33:52,114 INFO     Search end: problem_x\n",
      "2018-10-06 02:33:52,115 INFO     Wall-clock search time: 0.0056\n",
      "2018-10-06 02:33:52,116 INFO     Plan length: 21\n",
      "2018-10-06 02:33:52,124 INFO     validate could not be found on the PATH so the plan can not be validated.\n",
      "2018-10-06 02:33:52,133 INFO     Found domain C:\\Users\\gdun9\\pipir-master\\benchmarks\\airport\\domain07.pddl\n",
      "2018-10-06 02:33:52,134 INFO     using search: astar_search\n",
      "2018-10-06 02:33:52,135 INFO     using heuristic: BlindHeuristic\n",
      "2018-10-06 02:33:52,135 INFO     Parsing Domain C:\\Users\\gdun9\\pipir-master\\benchmarks\\airport\\domain07.pddl\n",
      "2018-10-06 02:33:52,195 INFO     Parsing Problem C:\\Users\\gdun9\\pipir-master\\benchmarks\\airport\\task07.pddl\n",
      "2018-10-06 02:33:52,200 INFO     12 Predicates parsed\n",
      "2018-10-06 02:33:52,201 INFO     120 Actions parsed\n",
      "2018-10-06 02:33:52,201 INFO     0 Objects parsed\n",
      "2018-10-06 02:33:52,202 INFO     47 Constants parsed\n",
      "2018-10-06 02:33:52,203 INFO     Grounding start: problem_x\n",
      "2018-10-06 02:33:52,218 INFO     Relevance analysis removed 122 facts\n",
      "2018-10-06 02:33:52,220 INFO     Grounding end: problem_x\n",
      "2018-10-06 02:33:52,220 INFO     314 Variables created\n",
      "2018-10-06 02:33:52,221 INFO     240 Operators created\n",
      "2018-10-06 02:33:52,222 INFO     Search start: problem_x\n",
      "2018-10-06 02:33:52,222 INFO     Initial h value: 1.000000\n",
      "2018-10-06 02:33:52,303 INFO     Goal reached. Start extraction of solution.\n",
      "2018-10-06 02:33:52,304 INFO     765 Nodes expanded\n",
      "2018-10-06 02:33:52,306 INFO     Search end: problem_x\n",
      "2018-10-06 02:33:52,306 INFO     Wall-clock search time: 0.085\n",
      "2018-10-06 02:33:52,307 INFO     Plan length: 41\n",
      "2018-10-06 02:33:52,311 INFO     validate could not be found on the PATH so the plan can not be validated.\n",
      "2018-10-06 02:33:52,323 INFO     Found domain C:\\Users\\gdun9\\pipir-master\\benchmarks\\airport\\domain09.pddl\n",
      "2018-10-06 02:33:52,323 INFO     using search: astar_search\n",
      "2018-10-06 02:33:52,324 INFO     using heuristic: BlindHeuristic\n",
      "2018-10-06 02:33:52,324 INFO     Parsing Domain C:\\Users\\gdun9\\pipir-master\\benchmarks\\airport\\domain09.pddl\n",
      "2018-10-06 02:33:52,402 INFO     Parsing Problem C:\\Users\\gdun9\\pipir-master\\benchmarks\\airport\\task09.pddl\n",
      "2018-10-06 02:33:52,407 INFO     12 Predicates parsed\n",
      "2018-10-06 02:33:52,408 INFO     122 Actions parsed\n",
      "2018-10-06 02:33:52,409 INFO     0 Objects parsed\n",
      "2018-10-06 02:33:52,409 INFO     49 Constants parsed\n",
      "2018-10-06 02:33:52,410 INFO     Grounding start: problem_x\n",
      "2018-10-06 02:33:52,449 INFO     Relevance analysis removed 208 facts\n",
      "2018-10-06 02:33:52,451 INFO     Grounding end: problem_x\n",
      "2018-10-06 02:33:52,451 INFO     554 Variables created\n",
      "2018-10-06 02:33:52,452 INFO     488 Operators created\n",
      "2018-10-06 02:33:52,453 INFO     Search start: problem_x\n",
      "2018-10-06 02:33:52,454 INFO     Initial h value: 1.000000\n",
      "2018-10-06 02:34:32,454 INFO     Goal reached. Start extraction of solution.\n",
      "2018-10-06 02:34:32,455 INFO     176366 Nodes expanded\n",
      "2018-10-06 02:34:32,912 INFO     Search end: problem_x\n",
      "2018-10-06 02:34:32,913 INFO     Wall-clock search time: 4e+01\n",
      "2018-10-06 02:34:32,915 INFO     Plan length: 71\n",
      "2018-10-06 02:34:32,919 INFO     validate could not be found on the PATH so the plan can not be validated.\n",
      "2018-10-06 02:34:32,928 INFO     Found domain C:\\Users\\gdun9\\pipir-master\\benchmarks\\airport\\domain11.pddl\n",
      "2018-10-06 02:34:32,929 INFO     using search: astar_search\n",
      "2018-10-06 02:34:32,929 INFO     using heuristic: BlindHeuristic\n",
      "2018-10-06 02:34:32,930 INFO     Parsing Domain C:\\Users\\gdun9\\pipir-master\\benchmarks\\airport\\domain11.pddl\n",
      "2018-10-06 02:34:32,996 INFO     Parsing Problem C:\\Users\\gdun9\\pipir-master\\benchmarks\\airport\\task11.pddl\n",
      "2018-10-06 02:34:33,000 INFO     12 Predicates parsed\n",
      "2018-10-06 02:34:33,001 INFO     140 Actions parsed\n",
      "2018-10-06 02:34:33,002 INFO     0 Objects parsed\n",
      "2018-10-06 02:34:33,002 INFO     50 Constants parsed\n",
      "2018-10-06 02:34:33,003 INFO     Grounding start: problem_x\n",
      "2018-10-06 02:34:33,017 INFO     Relevance analysis removed 89 facts\n",
      "2018-10-06 02:34:33,018 INFO     Grounding end: problem_x\n"
     ]
    },
    {
     "name": "stdout",
     "output_type": "stream",
     "text": [
      "2018-10-06 02:34:33,019 INFO     216 Variables created\n",
      "2018-10-06 02:34:33,020 INFO     140 Operators created\n",
      "2018-10-06 02:34:33,021 INFO     Search start: problem_x\n",
      "2018-10-06 02:34:33,021 INFO     Initial h value: 1.000000\n",
      "2018-10-06 02:34:33,024 INFO     Goal reached. Start extraction of solution.\n",
      "2018-10-06 02:34:33,025 INFO     31 Nodes expanded\n",
      "2018-10-06 02:34:33,026 INFO     Search end: problem_x\n",
      "2018-10-06 02:34:33,026 INFO     Wall-clock search time: 0.0055\n",
      "2018-10-06 02:34:33,028 INFO     Plan length: 21\n",
      "2018-10-06 02:34:33,036 INFO     validate could not be found on the PATH so the plan can not be validated.\n"
     ]
    }
   ],
   "source": [
    "ram1 = []\n",
    "times1 = []\n",
    "%run ./pipir-master/src/pyperplan.py -H blind -s astar pipir-master/benchmarks/airport/task01.pddl\n",
    "ram1.append(process.memory_info().rss / float(2 ** 20))\n",
    "times1.append(search_time)\n",
    "%run ./pipir-master/src/pyperplan.py -H blind -s astar pipir-master/benchmarks/airport/task03.pddl\n",
    "ram1.append(process.memory_info().rss / float(2 ** 20))\n",
    "times1.append(search_time)\n",
    "%run ./pipir-master/src/pyperplan.py -H blind -s astar pipir-master/benchmarks/airport/task05.pddl\n",
    "ram1.append(process.memory_info().rss / float(2 ** 20))\n",
    "times1.append(search_time)\n",
    "%run ./pipir-master/src/pyperplan.py -H blind -s astar pipir-master/benchmarks/airport/task07.pddl\n",
    "ram1.append(process.memory_info().rss / float(2 ** 20))\n",
    "times1.append(search_time)\n",
    "%run ./pipir-master/src/pyperplan.py -H blind -s astar pipir-master/benchmarks/airport/task09.pddl\n",
    "ram1.append(process.memory_info().rss / float(2 ** 20))\n",
    "times1.append(search_time)\n",
    "%run ./pipir-master/src/pyperplan.py -H blind -s astar pipir-master/benchmarks/airport/task11.pddl\n",
    "ram1.append(process.memory_info().rss / float(2 ** 20))\n",
    "times1.append(search_time)"
   ]
  },
  {
   "cell_type": "code",
   "execution_count": 3,
   "metadata": {
    "scrolled": true
   },
   "outputs": [
    {
     "name": "stdout",
     "output_type": "stream",
     "text": [
      "[74.359375, 75.1171875, 76.03125, 76.69921875, 97.1640625, 96.48828125]\n",
      "[0.0040693781753840365, 0.012181148776086836, 0.005560523202639639, 0.08468493042781894, 40.460300314931, 0.005527338023505024]\n",
      "[30.35, 34.44, 88.75, 93.98, 106.9, 105.5]\n"
     ]
    }
   ],
   "source": [
    "print(ram1)\n",
    "print(times1)\n",
    "print(sizes)"
   ]
  },
  {
   "cell_type": "code",
   "execution_count": 4,
   "metadata": {},
   "outputs": [
    {
     "data": {
      "text/plain": [
       "Text(0,0.5,'RAM usage, MB')"
      ]
     },
     "execution_count": 4,
     "metadata": {},
     "output_type": "execute_result"
    },
    {
     "data": {
      "image/png": "[encoded data removed]",
      "text/plain": [
       "<Figure size 936x360 with 2 Axes>"
      ]
     },
     "metadata": {},
     "output_type": "display_data"
    }
   ],
   "source": [
    "plt1, (t, r) = plt.subplots(1, 2, figsize=(13, 5))\n",
    "t.plot(sizes, times1)\n",
    "r.plot(sizes, ram1)\n",
    "t.set_xlabel(\"Data size , KB\")\n",
    "t.set_ylabel(\"Time, s\")\n",
    "r.set_xlabel(\"Data size, KB\")\n",
    "r.set_ylabel(\"RAM usage, MB\")"
   ]
  },
  {
   "cell_type": "code",
   "execution_count": 5,
   "metadata": {
    "scrolled": true
   },
   "outputs": [
    {
     "name": "stdout",
     "output_type": "stream",
     "text": [
      "2018-10-06 02:34:48,217 INFO     Found domain C:\\Users\\gdun9\\pipir-master\\benchmarks\\airport\\domain01.pddl\n",
      "2018-10-06 02:34:48,217 INFO     using search: weighted_astar_search\n",
      "2018-10-06 02:34:48,218 INFO     using heuristic: LandmarkHeuristic\n",
      "2018-10-06 02:34:48,219 INFO     Parsing Domain C:\\Users\\gdun9\\pipir-master\\benchmarks\\airport\\domain01.pddl\n",
      "2018-10-06 02:34:48,240 INFO     Parsing Problem C:\\Users\\gdun9\\pipir-master\\benchmarks\\airport\\task01.pddl\n",
      "2018-10-06 02:34:48,242 INFO     12 Predicates parsed\n",
      "2018-10-06 02:34:48,243 INFO     39 Actions parsed\n",
      "2018-10-06 02:34:48,244 INFO     0 Objects parsed\n",
      "2018-10-06 02:34:48,244 INFO     23 Constants parsed\n",
      "2018-10-06 02:34:48,245 INFO     Grounding start: problem_x\n",
      "2018-10-06 02:34:48,247 INFO     Relevance analysis removed 32 facts\n",
      "2018-10-06 02:34:48,248 INFO     Grounding end: problem_x\n",
      "2018-10-06 02:34:48,248 INFO     78 Variables created\n",
      "2018-10-06 02:34:48,249 INFO     39 Operators created\n",
      "2018-10-06 02:34:48,283 INFO     Search start: problem_x\n",
      "2018-10-06 02:34:48,284 INFO     Initial h value: 4.300000\n",
      "2018-10-06 02:34:48,285 INFO     Goal reached. Start extraction of solution.\n",
      "2018-10-06 02:34:48,286 INFO     9 Nodes expanded\n",
      "2018-10-06 02:34:48,287 INFO     Search end: problem_x\n",
      "2018-10-06 02:34:48,288 INFO     Wall-clock search time: 0.0051\n",
      "2018-10-06 02:34:48,289 INFO     Plan length: 8\n",
      "2018-10-06 02:34:48,293 INFO     validate could not be found on the PATH so the plan can not be validated.\n",
      "2018-10-06 02:34:48,310 INFO     Found domain C:\\Users\\gdun9\\pipir-master\\benchmarks\\airport\\domain03.pddl\n",
      "2018-10-06 02:34:48,311 INFO     using search: weighted_astar_search\n",
      "2018-10-06 02:34:48,312 INFO     using heuristic: LandmarkHeuristic\n",
      "2018-10-06 02:34:48,313 INFO     Parsing Domain C:\\Users\\gdun9\\pipir-master\\benchmarks\\airport\\domain03.pddl\n",
      "2018-10-06 02:34:48,338 INFO     Parsing Problem C:\\Users\\gdun9\\pipir-master\\benchmarks\\airport\\task03.pddl\n",
      "2018-10-06 02:34:48,341 INFO     12 Predicates parsed\n",
      "2018-10-06 02:34:48,342 INFO     41 Actions parsed\n",
      "2018-10-06 02:34:48,343 INFO     0 Objects parsed\n",
      "2018-10-06 02:34:48,344 INFO     24 Constants parsed\n",
      "2018-10-06 02:34:48,345 INFO     Grounding start: problem_x\n",
      "2018-10-06 02:34:48,349 INFO     Relevance analysis removed 51 facts\n",
      "2018-10-06 02:34:48,350 INFO     Grounding end: problem_x\n",
      "2018-10-06 02:34:48,350 INFO     128 Variables created\n",
      "2018-10-06 02:34:48,351 INFO     81 Operators created\n",
      "2018-10-06 02:34:48,392 INFO     Search start: problem_x\n",
      "2018-10-06 02:34:48,393 INFO     Initial h value: 8.383333\n",
      "2018-10-06 02:34:48,396 INFO     Goal reached. Start extraction of solution.\n",
      "2018-10-06 02:34:48,397 INFO     48 Nodes expanded\n",
      "2018-10-06 02:34:48,398 INFO     Search end: problem_x\n",
      "2018-10-06 02:34:48,399 INFO     Wall-clock search time: 0.0069\n",
      "2018-10-06 02:34:48,400 INFO     Plan length: 17\n",
      "2018-10-06 02:34:48,408 INFO     validate could not be found on the PATH so the plan can not be validated.\n",
      "2018-10-06 02:34:48,420 INFO     Found domain C:\\Users\\gdun9\\pipir-master\\benchmarks\\airport\\domain05.pddl\n",
      "2018-10-06 02:34:48,421 INFO     using search: weighted_astar_search\n",
      "2018-10-06 02:34:48,421 INFO     using heuristic: LandmarkHeuristic\n",
      "2018-10-06 02:34:48,422 INFO     Parsing Domain C:\\Users\\gdun9\\pipir-master\\benchmarks\\airport\\domain05.pddl\n",
      "2018-10-06 02:34:48,485 INFO     Parsing Problem C:\\Users\\gdun9\\pipir-master\\benchmarks\\airport\\task05.pddl\n",
      "2018-10-06 02:34:48,488 INFO     12 Predicates parsed\n",
      "2018-10-06 02:34:48,489 INFO     120 Actions parsed\n",
      "2018-10-06 02:34:48,490 INFO     0 Objects parsed\n",
      "2018-10-06 02:34:48,490 INFO     46 Constants parsed\n",
      "2018-10-06 02:34:48,491 INFO     Grounding start: problem_x\n",
      "2018-10-06 02:34:48,502 INFO     Relevance analysis removed 79 facts\n",
      "2018-10-06 02:34:48,503 INFO     Grounding end: problem_x\n",
      "2018-10-06 02:34:48,504 INFO     194 Variables created\n",
      "2018-10-06 02:34:48,504 INFO     120 Operators created\n",
      "2018-10-06 02:34:48,588 INFO     Search start: problem_x\n",
      "2018-10-06 02:34:48,589 INFO     Initial h value: 7.950000\n",
      "2018-10-06 02:34:48,591 INFO     Goal reached. Start extraction of solution.\n",
      "2018-10-06 02:34:48,592 INFO     26 Nodes expanded\n",
      "2018-10-06 02:34:48,592 INFO     Search end: problem_x\n",
      "2018-10-06 02:34:48,593 INFO     Wall-clock search time: 0.0052\n",
      "2018-10-06 02:34:48,594 INFO     Plan length: 21\n",
      "2018-10-06 02:34:48,597 INFO     validate could not be found on the PATH so the plan can not be validated.\n",
      "2018-10-06 02:34:48,608 INFO     Found domain C:\\Users\\gdun9\\pipir-master\\benchmarks\\airport\\domain07.pddl\n",
      "2018-10-06 02:34:48,609 INFO     using search: weighted_astar_search\n",
      "2018-10-06 02:34:48,610 INFO     using heuristic: LandmarkHeuristic\n",
      "2018-10-06 02:34:48,610 INFO     Parsing Domain C:\\Users\\gdun9\\pipir-master\\benchmarks\\airport\\domain07.pddl\n",
      "2018-10-06 02:34:48,669 INFO     Parsing Problem C:\\Users\\gdun9\\pipir-master\\benchmarks\\airport\\task07.pddl\n",
      "2018-10-06 02:34:48,673 INFO     12 Predicates parsed\n",
      "2018-10-06 02:34:48,674 INFO     120 Actions parsed\n",
      "2018-10-06 02:34:48,674 INFO     0 Objects parsed\n",
      "2018-10-06 02:34:48,675 INFO     47 Constants parsed\n",
      "2018-10-06 02:34:48,675 INFO     Grounding start: problem_x\n",
      "2018-10-06 02:34:48,691 INFO     Relevance analysis removed 122 facts\n",
      "2018-10-06 02:34:48,692 INFO     Grounding end: problem_x\n",
      "2018-10-06 02:34:48,692 INFO     314 Variables created\n",
      "2018-10-06 02:34:48,693 INFO     240 Operators created\n",
      "2018-10-06 02:34:49,095 INFO     Search start: problem_x\n",
      "2018-10-06 02:34:49,096 INFO     Initial h value: 16.033333\n",
      "2018-10-06 02:34:49,113 INFO     Goal reached. Start extraction of solution.\n",
      "2018-10-06 02:34:49,114 INFO     151 Nodes expanded\n",
      "2018-10-06 02:34:49,115 INFO     Search end: problem_x\n",
      "2018-10-06 02:34:49,115 INFO     Wall-clock search time: 0.02\n",
      "2018-10-06 02:34:49,117 INFO     Plan length: 41\n",
      "2018-10-06 02:34:49,120 INFO     validate could not be found on the PATH so the plan can not be validated.\n",
      "2018-10-06 02:34:49,128 INFO     Found domain C:\\Users\\gdun9\\pipir-master\\benchmarks\\airport\\domain09.pddl\n",
      "2018-10-06 02:34:49,128 INFO     using search: weighted_astar_search\n",
      "2018-10-06 02:34:49,129 INFO     using heuristic: LandmarkHeuristic\n",
      "2018-10-06 02:34:49,130 INFO     Parsing Domain C:\\Users\\gdun9\\pipir-master\\benchmarks\\airport\\domain09.pddl\n",
      "2018-10-06 02:34:49,215 INFO     Parsing Problem C:\\Users\\gdun9\\pipir-master\\benchmarks\\airport\\task09.pddl\n",
      "2018-10-06 02:34:49,220 INFO     12 Predicates parsed\n",
      "2018-10-06 02:34:49,221 INFO     122 Actions parsed\n",
      "2018-10-06 02:34:49,221 INFO     0 Objects parsed\n",
      "2018-10-06 02:34:49,222 INFO     49 Constants parsed\n",
      "2018-10-06 02:34:49,223 INFO     Grounding start: problem_x\n",
      "2018-10-06 02:34:49,274 INFO     Relevance analysis removed 208 facts\n",
      "2018-10-06 02:34:49,276 INFO     Grounding end: problem_x\n",
      "2018-10-06 02:34:49,276 INFO     554 Variables created\n",
      "2018-10-06 02:34:49,277 INFO     488 Operators created\n",
      "2018-10-06 02:34:51,523 INFO     Search start: problem_x\n",
      "2018-10-06 02:34:51,523 INFO     Initial h value: 28.433333\n",
      "2018-10-06 02:34:55,902 INFO     Goal reached. Start extraction of solution.\n",
      "2018-10-06 02:34:55,903 INFO     17844 Nodes expanded\n",
      "2018-10-06 02:34:55,951 INFO     Search end: problem_x\n",
      "2018-10-06 02:34:55,951 INFO     Wall-clock search time: 4.4\n",
      "2018-10-06 02:34:55,953 INFO     Plan length: 73\n",
      "2018-10-06 02:34:55,959 INFO     validate could not be found on the PATH so the plan can not be validated.\n",
      "2018-10-06 02:34:55,968 INFO     Found domain C:\\Users\\gdun9\\pipir-master\\benchmarks\\airport\\domain11.pddl\n",
      "2018-10-06 02:34:55,970 INFO     using search: weighted_astar_search\n",
      "2018-10-06 02:34:55,971 INFO     using heuristic: LandmarkHeuristic\n",
      "2018-10-06 02:34:55,972 INFO     Parsing Domain C:\\Users\\gdun9\\pipir-master\\benchmarks\\airport\\domain11.pddl\n",
      "2018-10-06 02:34:56,033 INFO     Parsing Problem C:\\Users\\gdun9\\pipir-master\\benchmarks\\airport\\task11.pddl\n",
      "2018-10-06 02:34:56,036 INFO     12 Predicates parsed\n",
      "2018-10-06 02:34:56,038 INFO     140 Actions parsed\n",
      "2018-10-06 02:34:56,039 INFO     0 Objects parsed\n",
      "2018-10-06 02:34:56,039 INFO     50 Constants parsed\n",
      "2018-10-06 02:34:56,040 INFO     Grounding start: problem_x\n",
      "2018-10-06 02:34:56,050 INFO     Relevance analysis removed 89 facts\n"
     ]
    },
    {
     "name": "stdout",
     "output_type": "stream",
     "text": [
      "2018-10-06 02:34:56,051 INFO     Grounding end: problem_x\n",
      "2018-10-06 02:34:56,052 INFO     216 Variables created\n",
      "2018-10-06 02:34:56,053 INFO     140 Operators created\n",
      "2018-10-06 02:34:56,182 INFO     Search start: problem_x\n",
      "2018-10-06 02:34:56,182 INFO     Initial h value: 7.766667\n",
      "2018-10-06 02:34:56,185 INFO     Goal reached. Start extraction of solution.\n",
      "2018-10-06 02:34:56,186 INFO     26 Nodes expanded\n",
      "2018-10-06 02:34:56,187 INFO     Search end: problem_x\n",
      "2018-10-06 02:34:56,188 INFO     Wall-clock search time: 0.0058\n",
      "2018-10-06 02:34:56,189 INFO     Plan length: 21\n",
      "2018-10-06 02:34:56,193 INFO     validate could not be found on the PATH so the plan can not be validated.\n"
     ]
    },
    {
     "data": {
      "text/plain": [
       "<Figure size 432x288 with 0 Axes>"
      ]
     },
     "metadata": {},
     "output_type": "display_data"
    }
   ],
   "source": [
    "ram2 = []\n",
    "times2 = []\n",
    "%run ./pipir-master/src/pyperplan.py -H landmark -s wastar pipir-master/benchmarks/airport/task01.pddl\n",
    "ram2.append(process.memory_info().rss / float(2 ** 20))\n",
    "times2.append(search_time)\n",
    "%run ./pipir-master/src/pyperplan.py -H landmark -s wastar pipir-master/benchmarks/airport/task03.pddl\n",
    "ram2.append(process.memory_info().rss / float(2 ** 20))\n",
    "times2.append(search_time)\n",
    "%run ./pipir-master/src/pyperplan.py -H landmark -s wastar pipir-master/benchmarks/airport/task05.pddl\n",
    "ram2.append(process.memory_info().rss / float(2 ** 20))\n",
    "times2.append(search_time)\n",
    "%run ./pipir-master/src/pyperplan.py -H landmark -s wastar pipir-master/benchmarks/airport/task07.pddl\n",
    "ram2.append(process.memory_info().rss / float(2 ** 20))\n",
    "times2.append(search_time)\n",
    "%run ./pipir-master/src/pyperplan.py -H landmark -s wastar pipir-master/benchmarks/airport/task09.pddl\n",
    "ram2.append(process.memory_info().rss / float(2 ** 20))\n",
    "times2.append(search_time)\n",
    "%run ./pipir-master/src/pyperplan.py -H landmark -s wastar pipir-master/benchmarks/airport/task11.pddl\n",
    "ram2.append(process.memory_info().rss / float(2 ** 20))\n",
    "times2.append(search_time)"
   ]
  },
  {
   "cell_type": "code",
   "execution_count": 6,
   "metadata": {},
   "outputs": [
    {
     "data": {
      "text/plain": [
       "Text(0,0.5,'RAM usage, MB')"
      ]
     },
     "execution_count": 6,
     "metadata": {},
     "output_type": "execute_result"
    },
    {
     "data": {
      "image/png": "[encoded data removed]",
      "text/plain": [
       "<Figure size 936x360 with 2 Axes>"
      ]
     },
     "metadata": {},
     "output_type": "display_data"
    }
   ],
   "source": [
    "plt2, (t, r) = plt.subplots(1, 2, figsize=(13, 5))\n",
    "t.plot(sizes, times2)\n",
    "r.plot(sizes, ram2)\n",
    "t.set_xlabel(\"Data size , KB\")\n",
    "t.set_ylabel(\"Time, s\")\n",
    "r.set_xlabel(\"Data size, KB\")\n",
    "r.set_ylabel(\"RAM usage, MB\")"
   ]
  },
  {
   "cell_type": "code",
   "execution_count": 9,
   "metadata": {
    "scrolled": true
   },
   "outputs": [
    {
     "name": "stdout",
     "output_type": "stream",
     "text": [
      "2018-10-06 02:35:41,813 INFO     Found domain C:\\Users\\gdun9\\pipir-master\\benchmarks\\airport\\domain01.pddl\n",
      "2018-10-06 02:35:41,814 INFO     using search: breadth_first_search\n",
      "2018-10-06 02:35:41,814 INFO     using heuristic: None\n",
      "2018-10-06 02:35:41,815 INFO     Parsing Domain C:\\Users\\gdun9\\pipir-master\\benchmarks\\airport\\domain01.pddl\n",
      "2018-10-06 02:35:41,835 INFO     Parsing Problem C:\\Users\\gdun9\\pipir-master\\benchmarks\\airport\\task01.pddl\n",
      "2018-10-06 02:35:41,838 INFO     12 Predicates parsed\n",
      "2018-10-06 02:35:41,840 INFO     39 Actions parsed\n",
      "2018-10-06 02:35:41,841 INFO     0 Objects parsed\n",
      "2018-10-06 02:35:41,842 INFO     23 Constants parsed\n",
      "2018-10-06 02:35:41,843 INFO     Grounding start: problem_x\n",
      "2018-10-06 02:35:41,846 INFO     Relevance analysis removed 32 facts\n",
      "2018-10-06 02:35:41,848 INFO     Grounding end: problem_x\n",
      "2018-10-06 02:35:41,849 INFO     78 Variables created\n",
      "2018-10-06 02:35:41,850 INFO     39 Operators created\n",
      "2018-10-06 02:35:41,851 INFO     Search start: problem_x\n",
      "2018-10-06 02:35:41,852 INFO     Goal reached. Start extraction of solution.\n",
      "2018-10-06 02:35:41,853 INFO     12 Nodes expanded\n",
      "2018-10-06 02:35:41,854 INFO     Search end: problem_x\n",
      "2018-10-06 02:35:41,856 INFO     Wall-clock search time: 0.0043\n",
      "2018-10-06 02:35:41,857 INFO     Plan length: 8\n",
      "2018-10-06 02:35:41,862 INFO     validate could not be found on the PATH so the plan can not be validated.\n",
      "2018-10-06 02:35:41,878 INFO     Found domain C:\\Users\\gdun9\\pipir-master\\benchmarks\\airport\\domain03.pddl\n",
      "2018-10-06 02:35:41,879 INFO     using search: breadth_first_search\n",
      "2018-10-06 02:35:41,880 INFO     using heuristic: None\n",
      "2018-10-06 02:35:41,880 INFO     Parsing Domain C:\\Users\\gdun9\\pipir-master\\benchmarks\\airport\\domain03.pddl\n",
      "2018-10-06 02:35:41,904 INFO     Parsing Problem C:\\Users\\gdun9\\pipir-master\\benchmarks\\airport\\task03.pddl\n",
      "2018-10-06 02:35:41,908 INFO     12 Predicates parsed\n",
      "2018-10-06 02:35:41,908 INFO     41 Actions parsed\n",
      "2018-10-06 02:35:41,909 INFO     0 Objects parsed\n",
      "2018-10-06 02:35:41,910 INFO     24 Constants parsed\n",
      "2018-10-06 02:35:41,911 INFO     Grounding start: problem_x\n",
      "2018-10-06 02:35:41,916 INFO     Relevance analysis removed 51 facts\n",
      "2018-10-06 02:35:41,916 INFO     Grounding end: problem_x\n",
      "2018-10-06 02:35:41,917 INFO     128 Variables created\n",
      "2018-10-06 02:35:41,918 INFO     81 Operators created\n",
      "2018-10-06 02:35:41,919 INFO     Search start: problem_x\n",
      "2018-10-06 02:35:41,932 INFO     Goal reached. Start extraction of solution.\n",
      "2018-10-06 02:35:41,932 INFO     185 Nodes expanded\n",
      "2018-10-06 02:35:41,933 INFO     Search end: problem_x\n",
      "2018-10-06 02:35:41,934 INFO     Wall-clock search time: 0.015\n",
      "2018-10-06 02:35:41,935 INFO     Plan length: 17\n",
      "2018-10-06 02:35:41,940 INFO     validate could not be found on the PATH so the plan can not be validated.\n",
      "2018-10-06 02:35:41,955 INFO     Found domain C:\\Users\\gdun9\\pipir-master\\benchmarks\\airport\\domain05.pddl\n",
      "2018-10-06 02:35:41,955 INFO     using search: breadth_first_search\n",
      "2018-10-06 02:35:41,956 INFO     using heuristic: None\n",
      "2018-10-06 02:35:41,956 INFO     Parsing Domain C:\\Users\\gdun9\\pipir-master\\benchmarks\\airport\\domain05.pddl\n",
      "2018-10-06 02:35:42,015 INFO     Parsing Problem C:\\Users\\gdun9\\pipir-master\\benchmarks\\airport\\task05.pddl\n",
      "2018-10-06 02:35:42,018 INFO     12 Predicates parsed\n",
      "2018-10-06 02:35:42,019 INFO     120 Actions parsed\n",
      "2018-10-06 02:35:42,019 INFO     0 Objects parsed\n",
      "2018-10-06 02:35:42,020 INFO     46 Constants parsed\n",
      "2018-10-06 02:35:42,021 INFO     Grounding start: problem_x\n",
      "2018-10-06 02:35:42,033 INFO     Relevance analysis removed 79 facts\n",
      "2018-10-06 02:35:42,034 INFO     Grounding end: problem_x\n",
      "2018-10-06 02:35:42,035 INFO     194 Variables created\n",
      "2018-10-06 02:35:42,035 INFO     120 Operators created\n",
      "2018-10-06 02:35:42,036 INFO     Search start: problem_x\n",
      "2018-10-06 02:35:42,038 INFO     Goal reached. Start extraction of solution.\n",
      "2018-10-06 02:35:42,038 INFO     32 Nodes expanded\n",
      "2018-10-06 02:35:42,039 INFO     Search end: problem_x\n",
      "2018-10-06 02:35:42,040 INFO     Wall-clock search time: 0.0054\n",
      "2018-10-06 02:35:42,041 INFO     Plan length: 21\n",
      "2018-10-06 02:35:42,049 INFO     validate could not be found on the PATH so the plan can not be validated.\n",
      "2018-10-06 02:35:42,062 INFO     Found domain C:\\Users\\gdun9\\pipir-master\\benchmarks\\airport\\domain07.pddl\n",
      "2018-10-06 02:35:42,063 INFO     using search: breadth_first_search\n",
      "2018-10-06 02:35:42,063 INFO     using heuristic: None\n",
      "2018-10-06 02:35:42,064 INFO     Parsing Domain C:\\Users\\gdun9\\pipir-master\\benchmarks\\airport\\domain07.pddl\n",
      "2018-10-06 02:35:42,122 INFO     Parsing Problem C:\\Users\\gdun9\\pipir-master\\benchmarks\\airport\\task07.pddl\n",
      "2018-10-06 02:35:42,125 INFO     12 Predicates parsed\n",
      "2018-10-06 02:35:42,126 INFO     120 Actions parsed\n",
      "2018-10-06 02:35:42,127 INFO     0 Objects parsed\n",
      "2018-10-06 02:35:42,127 INFO     47 Constants parsed\n",
      "2018-10-06 02:35:42,128 INFO     Grounding start: problem_x\n",
      "2018-10-06 02:35:42,143 INFO     Relevance analysis removed 122 facts\n",
      "2018-10-06 02:35:42,144 INFO     Grounding end: problem_x\n",
      "2018-10-06 02:35:42,144 INFO     314 Variables created\n",
      "2018-10-06 02:35:42,145 INFO     240 Operators created\n",
      "2018-10-06 02:35:42,146 INFO     Search start: problem_x\n",
      "2018-10-06 02:35:42,229 INFO     Goal reached. Start extraction of solution.\n",
      "2018-10-06 02:35:42,230 INFO     780 Nodes expanded\n",
      "2018-10-06 02:35:42,232 INFO     Search end: problem_x\n",
      "2018-10-06 02:35:42,233 INFO     Wall-clock search time: 0.088\n",
      "2018-10-06 02:35:42,235 INFO     Plan length: 41\n",
      "2018-10-06 02:35:42,240 INFO     validate could not be found on the PATH so the plan can not be validated.\n",
      "2018-10-06 02:35:42,252 INFO     Found domain C:\\Users\\gdun9\\pipir-master\\benchmarks\\airport\\domain09.pddl\n",
      "2018-10-06 02:35:42,253 INFO     using search: breadth_first_search\n",
      "2018-10-06 02:35:42,253 INFO     using heuristic: None\n",
      "2018-10-06 02:35:42,254 INFO     Parsing Domain C:\\Users\\gdun9\\pipir-master\\benchmarks\\airport\\domain09.pddl\n",
      "2018-10-06 02:35:42,337 INFO     Parsing Problem C:\\Users\\gdun9\\pipir-master\\benchmarks\\airport\\task09.pddl\n",
      "2018-10-06 02:35:42,343 INFO     12 Predicates parsed\n",
      "2018-10-06 02:35:42,343 INFO     122 Actions parsed\n",
      "2018-10-06 02:35:42,343 INFO     0 Objects parsed\n",
      "2018-10-06 02:35:42,344 INFO     49 Constants parsed\n",
      "2018-10-06 02:35:42,344 INFO     Grounding start: problem_x\n",
      "2018-10-06 02:35:42,383 INFO     Relevance analysis removed 208 facts\n",
      "2018-10-06 02:35:42,384 INFO     Grounding end: problem_x\n",
      "2018-10-06 02:35:42,385 INFO     554 Variables created\n",
      "2018-10-06 02:35:42,386 INFO     488 Operators created\n",
      "2018-10-06 02:35:42,387 INFO     Search start: problem_x\n",
      "2018-10-06 02:36:21,493 INFO     Goal reached. Start extraction of solution.\n",
      "2018-10-06 02:36:21,494 INFO     177765 Nodes expanded\n",
      "2018-10-06 02:36:22,370 INFO     Search end: problem_x\n",
      "2018-10-06 02:36:22,371 INFO     Wall-clock search time: 4e+01\n",
      "2018-10-06 02:36:22,372 INFO     Plan length: 71\n",
      "2018-10-06 02:36:22,378 INFO     validate could not be found on the PATH so the plan can not be validated.\n",
      "2018-10-06 02:36:22,388 INFO     Found domain C:\\Users\\gdun9\\pipir-master\\benchmarks\\airport\\domain11.pddl\n",
      "2018-10-06 02:36:22,389 INFO     using search: breadth_first_search\n",
      "2018-10-06 02:36:22,390 INFO     using heuristic: None\n",
      "2018-10-06 02:36:22,391 INFO     Parsing Domain C:\\Users\\gdun9\\pipir-master\\benchmarks\\airport\\domain11.pddl\n",
      "2018-10-06 02:36:22,458 INFO     Parsing Problem C:\\Users\\gdun9\\pipir-master\\benchmarks\\airport\\task11.pddl\n",
      "2018-10-06 02:36:22,461 INFO     12 Predicates parsed\n",
      "2018-10-06 02:36:22,462 INFO     140 Actions parsed\n",
      "2018-10-06 02:36:22,462 INFO     0 Objects parsed\n",
      "2018-10-06 02:36:22,463 INFO     50 Constants parsed\n",
      "2018-10-06 02:36:22,464 INFO     Grounding start: problem_x\n",
      "2018-10-06 02:36:22,474 INFO     Relevance analysis removed 89 facts\n",
      "2018-10-06 02:36:22,476 INFO     Grounding end: problem_x\n",
      "2018-10-06 02:36:22,477 INFO     216 Variables created\n",
      "2018-10-06 02:36:22,478 INFO     140 Operators created\n",
      "2018-10-06 02:36:22,479 INFO     Search start: problem_x\n",
      "2018-10-06 02:36:22,480 INFO     Goal reached. Start extraction of solution.\n",
      "2018-10-06 02:36:22,481 INFO     32 Nodes expanded\n"
     ]
    },
    {
     "name": "stdout",
     "output_type": "stream",
     "text": [
      "2018-10-06 02:36:22,482 INFO     Search end: problem_x\n",
      "2018-10-06 02:36:22,482 INFO     Wall-clock search time: 0.0046\n",
      "2018-10-06 02:36:22,484 INFO     Plan length: 21\n",
      "2018-10-06 02:36:22,489 INFO     validate could not be found on the PATH so the plan can not be validated.\n"
     ]
    },
    {
     "data": {
      "text/plain": [
       "<Figure size 432x288 with 0 Axes>"
      ]
     },
     "metadata": {},
     "output_type": "display_data"
    }
   ],
   "source": [
    "ram3 = []\n",
    "times3 = []\n",
    "%run ./pipir-master/src/pyperplan.py -H hadd -s bfs pipir-master/benchmarks/airport/task01.pddl\n",
    "ram3.append(process.memory_info().rss / float(2 ** 20))\n",
    "times3.append(search_time)\n",
    "%run ./pipir-master/src/pyperplan.py -H hadd -s bfs pipir-master/benchmarks/airport/task03.pddl\n",
    "ram3.append(process.memory_info().rss / float(2 ** 20))\n",
    "times3.append(search_time)\n",
    "%run ./pipir-master/src/pyperplan.py -H hadd -s bfs pipir-master/benchmarks/airport/task05.pddl\n",
    "ram3.append(process.memory_info().rss / float(2 ** 20))\n",
    "times3.append(search_time)\n",
    "%run ./pipir-master/src/pyperplan.py -H hadd -s bfs pipir-master/benchmarks/airport/task07.pddl\n",
    "ram3.append(process.memory_info().rss / float(2 ** 20))\n",
    "times3.append(search_time)\n",
    "%run ./pipir-master/src/pyperplan.py -H hadd -s bfs pipir-master/benchmarks/airport/task09.pddl\n",
    "ram3.append(process.memory_info().rss / float(2 ** 20))\n",
    "times3.append(search_time)\n",
    "%run ./pipir-master/src/pyperplan.py -H hadd -s bfs pipir-master/benchmarks/airport/task11.pddl\n",
    "ram3.append(process.memory_info().rss / float(2 ** 20))\n",
    "times3.append(search_time)"
   ]
  },
  {
   "cell_type": "code",
   "execution_count": 10,
   "metadata": {},
   "outputs": [
    {
     "data": {
      "text/plain": [
       "Text(0,0.5,'RAM usage, MB')"
      ]
     },
     "execution_count": 10,
     "metadata": {},
     "output_type": "execute_result"
    },
    {
     "data": {
      "image/png": "[encoded data removed]",
      "text/plain": [
       "<Figure size 936x360 with 2 Axes>"
      ]
     },
     "metadata": {},
     "output_type": "display_data"
    }
   ],
   "source": [
    "plt3, (t, r) = plt.subplots(1, 2, figsize=(13, 5))\n",
    "t.plot(sizes, times3)\n",
    "r.plot(sizes, ram3)\n",
    "t.set_xlabel(\"Data size , KB\")\n",
    "t.set_ylabel(\"Time, s\")\n",
    "r.set_xlabel(\"Data size, KB\")\n",
    "r.set_ylabel(\"RAM usage, MB\")"
   ]
  },
  {
   "cell_type": "code",
   "execution_count": 11,
   "metadata": {
    "scrolled": true
   },
   "outputs": [
    {
     "name": "stdout",
     "output_type": "stream",
     "text": [
      "2018-10-06 02:36:39,567 INFO     Found domain C:\\Users\\gdun9\\pipir-master\\benchmarks\\airport\\domain01.pddl\n",
      "2018-10-06 02:36:39,568 INFO     using search: enforced_hillclimbing_search\n",
      "2018-10-06 02:36:39,568 INFO     using heuristic: hFFHeuristic\n",
      "2018-10-06 02:36:39,569 INFO     Parsing Domain C:\\Users\\gdun9\\pipir-master\\benchmarks\\airport\\domain01.pddl\n",
      "2018-10-06 02:36:39,587 INFO     Parsing Problem C:\\Users\\gdun9\\pipir-master\\benchmarks\\airport\\task01.pddl\n",
      "2018-10-06 02:36:39,590 INFO     12 Predicates parsed\n",
      "2018-10-06 02:36:39,591 INFO     39 Actions parsed\n",
      "2018-10-06 02:36:39,592 INFO     0 Objects parsed\n",
      "2018-10-06 02:36:39,592 INFO     23 Constants parsed\n",
      "2018-10-06 02:36:39,593 INFO     Grounding start: problem_x\n",
      "2018-10-06 02:36:39,597 INFO     Relevance analysis removed 32 facts\n",
      "2018-10-06 02:36:39,597 INFO     Grounding end: problem_x\n",
      "2018-10-06 02:36:39,598 INFO     78 Variables created\n",
      "2018-10-06 02:36:39,599 INFO     39 Operators created\n",
      "2018-10-06 02:36:39,600 INFO     Search start: problem_x\n",
      "2018-10-06 02:36:39,601 INFO     Initial h value: 8.000000\n",
      "2018-10-06 02:36:39,605 INFO     Goal reached. Start extraction of solution.\n",
      "2018-10-06 02:36:39,606 INFO     9 Nodes expanded\n",
      "2018-10-06 02:36:39,608 INFO     Search end: problem_x\n",
      "2018-10-06 02:36:39,609 INFO     Wall-clock search time: 0.0091\n",
      "2018-10-06 02:36:39,610 INFO     Plan length: 8\n",
      "2018-10-06 02:36:39,616 INFO     validate could not be found on the PATH so the plan can not be validated.\n",
      "2018-10-06 02:36:39,631 INFO     Found domain C:\\Users\\gdun9\\pipir-master\\benchmarks\\airport\\domain03.pddl\n",
      "2018-10-06 02:36:39,632 INFO     using search: enforced_hillclimbing_search\n",
      "2018-10-06 02:36:39,632 INFO     using heuristic: hFFHeuristic\n",
      "2018-10-06 02:36:39,633 INFO     Parsing Domain C:\\Users\\gdun9\\pipir-master\\benchmarks\\airport\\domain03.pddl\n",
      "2018-10-06 02:36:39,689 INFO     Parsing Problem C:\\Users\\gdun9\\pipir-master\\benchmarks\\airport\\task03.pddl\n",
      "2018-10-06 02:36:39,692 INFO     12 Predicates parsed\n",
      "2018-10-06 02:36:39,692 INFO     41 Actions parsed\n",
      "2018-10-06 02:36:39,693 INFO     0 Objects parsed\n",
      "2018-10-06 02:36:39,694 INFO     24 Constants parsed\n",
      "2018-10-06 02:36:39,695 INFO     Grounding start: problem_x\n",
      "2018-10-06 02:36:39,702 INFO     Relevance analysis removed 51 facts\n",
      "2018-10-06 02:36:39,703 INFO     Grounding end: problem_x\n",
      "2018-10-06 02:36:39,704 INFO     128 Variables created\n",
      "2018-10-06 02:36:39,704 INFO     81 Operators created\n",
      "2018-10-06 02:36:39,706 INFO     Search start: problem_x\n",
      "2018-10-06 02:36:39,708 INFO     Initial h value: 17.000000\n",
      "2018-10-06 02:36:39,730 INFO     Goal reached. Start extraction of solution.\n",
      "2018-10-06 02:36:39,731 INFO     18 Nodes expanded\n",
      "2018-10-06 02:36:39,731 INFO     Search end: problem_x\n",
      "2018-10-06 02:36:39,732 INFO     Wall-clock search time: 0.025\n",
      "2018-10-06 02:36:39,732 INFO     Plan length: 17\n",
      "2018-10-06 02:36:39,736 INFO     validate could not be found on the PATH so the plan can not be validated.\n",
      "2018-10-06 02:36:39,749 INFO     Found domain C:\\Users\\gdun9\\pipir-master\\benchmarks\\airport\\domain05.pddl\n",
      "2018-10-06 02:36:39,749 INFO     using search: enforced_hillclimbing_search\n",
      "2018-10-06 02:36:39,750 INFO     using heuristic: hFFHeuristic\n",
      "2018-10-06 02:36:39,751 INFO     Parsing Domain C:\\Users\\gdun9\\pipir-master\\benchmarks\\airport\\domain05.pddl\n",
      "2018-10-06 02:36:39,812 INFO     Parsing Problem C:\\Users\\gdun9\\pipir-master\\benchmarks\\airport\\task05.pddl\n",
      "2018-10-06 02:36:39,815 INFO     12 Predicates parsed\n",
      "2018-10-06 02:36:39,815 INFO     120 Actions parsed\n",
      "2018-10-06 02:36:39,816 INFO     0 Objects parsed\n",
      "2018-10-06 02:36:39,817 INFO     46 Constants parsed\n",
      "2018-10-06 02:36:39,817 INFO     Grounding start: problem_x\n",
      "2018-10-06 02:36:39,829 INFO     Relevance analysis removed 79 facts\n",
      "2018-10-06 02:36:39,830 INFO     Grounding end: problem_x\n",
      "2018-10-06 02:36:39,831 INFO     194 Variables created\n",
      "2018-10-06 02:36:39,832 INFO     120 Operators created\n",
      "2018-10-06 02:36:39,834 INFO     Search start: problem_x\n",
      "2018-10-06 02:36:39,836 INFO     Initial h value: 21.000000\n",
      "2018-10-06 02:36:39,856 INFO     Goal reached. Start extraction of solution.\n",
      "2018-10-06 02:36:39,858 INFO     22 Nodes expanded\n",
      "2018-10-06 02:36:39,859 INFO     Search end: problem_x\n",
      "2018-10-06 02:36:39,860 INFO     Wall-clock search time: 0.026\n",
      "2018-10-06 02:36:39,860 INFO     Plan length: 21\n",
      "2018-10-06 02:36:39,866 INFO     validate could not be found on the PATH so the plan can not be validated.\n",
      "2018-10-06 02:36:39,880 INFO     Found domain C:\\Users\\gdun9\\pipir-master\\benchmarks\\airport\\domain07.pddl\n",
      "2018-10-06 02:36:39,883 INFO     using search: enforced_hillclimbing_search\n",
      "2018-10-06 02:36:39,884 INFO     using heuristic: hFFHeuristic\n",
      "2018-10-06 02:36:39,884 INFO     Parsing Domain C:\\Users\\gdun9\\pipir-master\\benchmarks\\airport\\domain07.pddl\n",
      "2018-10-06 02:36:39,946 INFO     Parsing Problem C:\\Users\\gdun9\\pipir-master\\benchmarks\\airport\\task07.pddl\n",
      "2018-10-06 02:36:39,951 INFO     12 Predicates parsed\n",
      "2018-10-06 02:36:39,952 INFO     120 Actions parsed\n",
      "2018-10-06 02:36:39,952 INFO     0 Objects parsed\n",
      "2018-10-06 02:36:39,953 INFO     47 Constants parsed\n",
      "2018-10-06 02:36:39,954 INFO     Grounding start: problem_x\n",
      "2018-10-06 02:36:39,976 INFO     Relevance analysis removed 122 facts\n",
      "2018-10-06 02:36:39,977 INFO     Grounding end: problem_x\n",
      "2018-10-06 02:36:39,978 INFO     314 Variables created\n",
      "2018-10-06 02:36:39,978 INFO     240 Operators created\n",
      "2018-10-06 02:36:39,981 INFO     Search start: problem_x\n",
      "2018-10-06 02:36:39,984 INFO     Initial h value: 41.000000\n",
      "2018-10-06 02:36:40,050 INFO     Goal reached. Start extraction of solution.\n",
      "2018-10-06 02:36:40,051 INFO     45 Nodes expanded\n",
      "2018-10-06 02:36:40,052 INFO     Search end: problem_x\n",
      "2018-10-06 02:36:40,053 INFO     Wall-clock search time: 0.072\n",
      "2018-10-06 02:36:40,054 INFO     Plan length: 43\n",
      "2018-10-06 02:36:40,058 INFO     validate could not be found on the PATH so the plan can not be validated.\n",
      "2018-10-06 02:36:40,070 INFO     Found domain C:\\Users\\gdun9\\pipir-master\\benchmarks\\airport\\domain09.pddl\n",
      "2018-10-06 02:36:40,071 INFO     using search: enforced_hillclimbing_search\n",
      "2018-10-06 02:36:40,072 INFO     using heuristic: hFFHeuristic\n",
      "2018-10-06 02:36:40,072 INFO     Parsing Domain C:\\Users\\gdun9\\pipir-master\\benchmarks\\airport\\domain09.pddl\n",
      "2018-10-06 02:36:40,128 INFO     Parsing Problem C:\\Users\\gdun9\\pipir-master\\benchmarks\\airport\\task09.pddl\n",
      "2018-10-06 02:36:40,136 INFO     12 Predicates parsed\n",
      "2018-10-06 02:36:40,136 INFO     122 Actions parsed\n",
      "2018-10-06 02:36:40,137 INFO     0 Objects parsed\n",
      "2018-10-06 02:36:40,138 INFO     49 Constants parsed\n",
      "2018-10-06 02:36:40,138 INFO     Grounding start: problem_x\n",
      "2018-10-06 02:36:40,205 INFO     Relevance analysis removed 208 facts\n",
      "2018-10-06 02:36:40,206 INFO     Grounding end: problem_x\n",
      "2018-10-06 02:36:40,206 INFO     554 Variables created\n",
      "2018-10-06 02:36:40,207 INFO     488 Operators created\n",
      "2018-10-06 02:36:40,211 INFO     Search start: problem_x\n",
      "2018-10-06 02:36:40,215 INFO     Initial h value: 71.000000\n",
      "2018-10-06 02:36:40,379 INFO     No operators left. Task unsolvable.\n",
      "2018-10-06 02:36:40,381 INFO     29 Nodes expanded\n",
      "2018-10-06 02:36:40,381 INFO     Search end: problem_x\n",
      "2018-10-06 02:36:40,382 INFO     Wall-clock search time: 0.17\n",
      "2018-10-06 02:36:40,383 WARNING  No solution could be found\n",
      "2018-10-06 02:36:40,396 INFO     Found domain C:\\Users\\gdun9\\pipir-master\\benchmarks\\airport\\domain11.pddl\n",
      "2018-10-06 02:36:40,397 INFO     using search: enforced_hillclimbing_search\n",
      "2018-10-06 02:36:40,398 INFO     using heuristic: hFFHeuristic\n",
      "2018-10-06 02:36:40,398 INFO     Parsing Domain C:\\Users\\gdun9\\pipir-master\\benchmarks\\airport\\domain11.pddl\n",
      "2018-10-06 02:36:40,472 INFO     Parsing Problem C:\\Users\\gdun9\\pipir-master\\benchmarks\\airport\\task11.pddl\n",
      "2018-10-06 02:36:40,476 INFO     12 Predicates parsed\n",
      "2018-10-06 02:36:40,477 INFO     140 Actions parsed\n",
      "2018-10-06 02:36:40,477 INFO     0 Objects parsed\n",
      "2018-10-06 02:36:40,478 INFO     50 Constants parsed\n",
      "2018-10-06 02:36:40,479 INFO     Grounding start: problem_x\n",
      "2018-10-06 02:36:40,488 INFO     Relevance analysis removed 89 facts\n",
      "2018-10-06 02:36:40,489 INFO     Grounding end: problem_x\n",
      "2018-10-06 02:36:40,490 INFO     216 Variables created\n"
     ]
    },
    {
     "name": "stdout",
     "output_type": "stream",
     "text": [
      "2018-10-06 02:36:40,491 INFO     140 Operators created\n",
      "2018-10-06 02:36:40,492 INFO     Search start: problem_x\n",
      "2018-10-06 02:36:40,495 INFO     Initial h value: 21.000000\n",
      "2018-10-06 02:36:40,515 INFO     Goal reached. Start extraction of solution.\n",
      "2018-10-06 02:36:40,516 INFO     22 Nodes expanded\n",
      "2018-10-06 02:36:40,516 INFO     Search end: problem_x\n",
      "2018-10-06 02:36:40,517 INFO     Wall-clock search time: 0.024\n",
      "2018-10-06 02:36:40,519 INFO     Plan length: 21\n",
      "2018-10-06 02:36:40,525 INFO     validate could not be found on the PATH so the plan can not be validated.\n"
     ]
    },
    {
     "data": {
      "text/plain": [
       "<Figure size 432x288 with 0 Axes>"
      ]
     },
     "metadata": {},
     "output_type": "display_data"
    }
   ],
   "source": [
    "ram4 = []\n",
    "times4 = []\n",
    "%run ./pipir-master/src/pyperplan.py -H hff -s ehs pipir-master/benchmarks/airport/task01.pddl\n",
    "ram4.append(process.memory_info().rss / float(2 ** 20))\n",
    "times4.append(search_time)\n",
    "%run ./pipir-master/src/pyperplan.py -H hff -s ehs pipir-master/benchmarks/airport/task03.pddl\n",
    "ram4.append(process.memory_info().rss / float(2 ** 20))\n",
    "times4.append(search_time)\n",
    "%run ./pipir-master/src/pyperplan.py -H hff -s ehs pipir-master/benchmarks/airport/task05.pddl\n",
    "ram4.append(process.memory_info().rss / float(2 ** 20))\n",
    "times4.append(search_time)\n",
    "%run ./pipir-master/src/pyperplan.py -H hff -s ehs pipir-master/benchmarks/airport/task07.pddl\n",
    "ram4.append(process.memory_info().rss / float(2 ** 20))\n",
    "times4.append(search_time)\n",
    "%run ./pipir-master/src/pyperplan.py -H hff -s ehs pipir-master/benchmarks/airport/task09.pddl\n",
    "ram4.append(process.memory_info().rss / float(2 ** 20))\n",
    "times4.append(search_time)\n",
    "%run ./pipir-master/src/pyperplan.py -H hff -s ehs pipir-master/benchmarks/airport/task11.pddl\n",
    "ram4.append(process.memory_info().rss / float(2 ** 20))\n",
    "times4.append(search_time)"
   ]
  },
  {
   "cell_type": "code",
   "execution_count": 12,
   "metadata": {},
   "outputs": [
    {
     "data": {
      "text/plain": [
       "Text(0,0.5,'RAM usage, MB')"
      ]
     },
     "execution_count": 12,
     "metadata": {},
     "output_type": "execute_result"
    },
    {
     "data": {
      "image/png": "[encoded data removed]",
      "text/plain": [
       "<Figure size 936x360 with 2 Axes>"
      ]
     },
     "metadata": {},
     "output_type": "display_data"
    }
   ],
   "source": [
    "plt4, (t, r) = plt.subplots(1, 2, figsize=(13, 5))\n",
    "t.plot(sizes, times4)\n",
    "r.plot(sizes, ram4)\n",
    "t.set_xlabel(\"Data size , KB\")\n",
    "t.set_ylabel(\"Time, s\")\n",
    "r.set_xlabel(\"Data size, KB\")\n",
    "r.set_ylabel(\"RAM usage, MB\")"
   ]
  },
  {
   "cell_type": "code",
   "execution_count": 13,
   "metadata": {
    "scrolled": true
   },
   "outputs": [
    {
     "name": "stdout",
     "output_type": "stream",
     "text": [
      "2018-10-06 02:36:54,264 INFO     Found domain C:\\Users\\gdun9\\pipir-master\\benchmarks\\airport\\domain01.pddl\n",
      "2018-10-06 02:36:54,265 INFO     using search: greedy_best_first_search\n",
      "2018-10-06 02:36:54,266 INFO     using heuristic: hMaxHeuristic\n",
      "2018-10-06 02:36:54,267 INFO     Parsing Domain C:\\Users\\gdun9\\pipir-master\\benchmarks\\airport\\domain01.pddl\n",
      "2018-10-06 02:36:54,296 INFO     Parsing Problem C:\\Users\\gdun9\\pipir-master\\benchmarks\\airport\\task01.pddl\n",
      "2018-10-06 02:36:54,299 INFO     12 Predicates parsed\n",
      "2018-10-06 02:36:54,300 INFO     39 Actions parsed\n",
      "2018-10-06 02:36:54,301 INFO     0 Objects parsed\n",
      "2018-10-06 02:36:54,302 INFO     23 Constants parsed\n",
      "2018-10-06 02:36:54,303 INFO     Grounding start: problem_x\n",
      "2018-10-06 02:36:54,307 INFO     Relevance analysis removed 32 facts\n",
      "2018-10-06 02:36:54,308 INFO     Grounding end: problem_x\n",
      "2018-10-06 02:36:54,310 INFO     78 Variables created\n",
      "2018-10-06 02:36:54,311 INFO     39 Operators created\n",
      "2018-10-06 02:36:54,312 INFO     Search start: problem_x\n",
      "2018-10-06 02:36:54,315 INFO     Initial h value: 8.000000\n",
      "2018-10-06 02:36:54,319 INFO     Goal reached. Start extraction of solution.\n",
      "2018-10-06 02:36:54,319 INFO     9 Nodes expanded\n",
      "2018-10-06 02:36:54,320 INFO     Search end: problem_x\n",
      "2018-10-06 02:36:54,322 INFO     Wall-clock search time: 0.01\n",
      "2018-10-06 02:36:54,323 INFO     Plan length: 8\n",
      "2018-10-06 02:36:54,331 INFO     validate could not be found on the PATH so the plan can not be validated.\n",
      "2018-10-06 02:36:54,346 INFO     Found domain C:\\Users\\gdun9\\pipir-master\\benchmarks\\airport\\domain03.pddl\n",
      "2018-10-06 02:36:54,347 INFO     using search: greedy_best_first_search\n",
      "2018-10-06 02:36:54,348 INFO     using heuristic: hMaxHeuristic\n",
      "2018-10-06 02:36:54,349 INFO     Parsing Domain C:\\Users\\gdun9\\pipir-master\\benchmarks\\airport\\domain03.pddl\n",
      "2018-10-06 02:36:54,378 INFO     Parsing Problem C:\\Users\\gdun9\\pipir-master\\benchmarks\\airport\\task03.pddl\n",
      "2018-10-06 02:36:54,381 INFO     12 Predicates parsed\n",
      "2018-10-06 02:36:54,382 INFO     41 Actions parsed\n",
      "2018-10-06 02:36:54,383 INFO     0 Objects parsed\n",
      "2018-10-06 02:36:54,384 INFO     24 Constants parsed\n",
      "2018-10-06 02:36:54,386 INFO     Grounding start: problem_x\n",
      "2018-10-06 02:36:54,392 INFO     Relevance analysis removed 51 facts\n",
      "2018-10-06 02:36:54,393 INFO     Grounding end: problem_x\n",
      "2018-10-06 02:36:54,394 INFO     128 Variables created\n",
      "2018-10-06 02:36:54,394 INFO     81 Operators created\n",
      "2018-10-06 02:36:54,395 INFO     Search start: problem_x\n",
      "2018-10-06 02:36:54,396 INFO     Initial h value: 8.000000\n",
      "2018-10-06 02:36:54,428 INFO     Goal reached. Start extraction of solution.\n",
      "2018-10-06 02:36:54,429 INFO     20 Nodes expanded\n",
      "2018-10-06 02:36:54,429 INFO     Search end: problem_x\n",
      "2018-10-06 02:36:54,430 INFO     Wall-clock search time: 0.035\n",
      "2018-10-06 02:36:54,431 INFO     Plan length: 17\n",
      "2018-10-06 02:36:54,435 INFO     validate could not be found on the PATH so the plan can not be validated.\n",
      "2018-10-06 02:36:54,450 INFO     Found domain C:\\Users\\gdun9\\pipir-master\\benchmarks\\airport\\domain05.pddl\n",
      "2018-10-06 02:36:54,450 INFO     using search: greedy_best_first_search\n",
      "2018-10-06 02:36:54,451 INFO     using heuristic: hMaxHeuristic\n",
      "2018-10-06 02:36:54,452 INFO     Parsing Domain C:\\Users\\gdun9\\pipir-master\\benchmarks\\airport\\domain05.pddl\n",
      "2018-10-06 02:36:54,514 INFO     Parsing Problem C:\\Users\\gdun9\\pipir-master\\benchmarks\\airport\\task05.pddl\n",
      "2018-10-06 02:36:54,516 INFO     12 Predicates parsed\n",
      "2018-10-06 02:36:54,517 INFO     120 Actions parsed\n",
      "2018-10-06 02:36:54,517 INFO     0 Objects parsed\n",
      "2018-10-06 02:36:54,518 INFO     46 Constants parsed\n",
      "2018-10-06 02:36:54,519 INFO     Grounding start: problem_x\n",
      "2018-10-06 02:36:54,532 INFO     Relevance analysis removed 79 facts\n",
      "2018-10-06 02:36:54,533 INFO     Grounding end: problem_x\n",
      "2018-10-06 02:36:54,534 INFO     194 Variables created\n",
      "2018-10-06 02:36:54,534 INFO     120 Operators created\n",
      "2018-10-06 02:36:54,565 INFO     Search start: problem_x\n",
      "2018-10-06 02:36:54,566 INFO     Initial h value: 20.000000\n",
      "2018-10-06 02:36:54,583 INFO     Goal reached. Start extraction of solution.\n",
      "2018-10-06 02:36:54,584 INFO     22 Nodes expanded\n",
      "2018-10-06 02:36:54,585 INFO     Search end: problem_x\n",
      "2018-10-06 02:36:54,586 INFO     Wall-clock search time: 0.02\n",
      "2018-10-06 02:36:54,587 INFO     Plan length: 21\n",
      "2018-10-06 02:36:54,593 INFO     validate could not be found on the PATH so the plan can not be validated.\n",
      "2018-10-06 02:36:54,604 INFO     Found domain C:\\Users\\gdun9\\pipir-master\\benchmarks\\airport\\domain07.pddl\n",
      "2018-10-06 02:36:54,604 INFO     using search: greedy_best_first_search\n",
      "2018-10-06 02:36:54,605 INFO     using heuristic: hMaxHeuristic\n",
      "2018-10-06 02:36:54,606 INFO     Parsing Domain C:\\Users\\gdun9\\pipir-master\\benchmarks\\airport\\domain07.pddl\n",
      "2018-10-06 02:36:54,665 INFO     Parsing Problem C:\\Users\\gdun9\\pipir-master\\benchmarks\\airport\\task07.pddl\n",
      "2018-10-06 02:36:54,670 INFO     12 Predicates parsed\n",
      "2018-10-06 02:36:54,671 INFO     120 Actions parsed\n",
      "2018-10-06 02:36:54,671 INFO     0 Objects parsed\n",
      "2018-10-06 02:36:54,672 INFO     47 Constants parsed\n",
      "2018-10-06 02:36:54,673 INFO     Grounding start: problem_x\n",
      "2018-10-06 02:36:54,692 INFO     Relevance analysis removed 122 facts\n",
      "2018-10-06 02:36:54,694 INFO     Grounding end: problem_x\n",
      "2018-10-06 02:36:54,695 INFO     314 Variables created\n",
      "2018-10-06 02:36:54,696 INFO     240 Operators created\n",
      "2018-10-06 02:36:54,698 INFO     Search start: problem_x\n",
      "2018-10-06 02:36:54,700 INFO     Initial h value: 20.000000\n",
      "2018-10-06 02:36:54,841 INFO     Goal reached. Start extraction of solution.\n",
      "2018-10-06 02:36:54,841 INFO     44 Nodes expanded\n",
      "2018-10-06 02:36:54,842 INFO     Search end: problem_x\n",
      "2018-10-06 02:36:54,842 INFO     Wall-clock search time: 0.14\n",
      "2018-10-06 02:36:54,844 INFO     Plan length: 41\n",
      "2018-10-06 02:36:54,851 INFO     validate could not be found on the PATH so the plan can not be validated.\n",
      "2018-10-06 02:36:54,861 INFO     Found domain C:\\Users\\gdun9\\pipir-master\\benchmarks\\airport\\domain09.pddl\n",
      "2018-10-06 02:36:54,861 INFO     using search: greedy_best_first_search\n",
      "2018-10-06 02:36:54,862 INFO     using heuristic: hMaxHeuristic\n",
      "2018-10-06 02:36:54,863 INFO     Parsing Domain C:\\Users\\gdun9\\pipir-master\\benchmarks\\airport\\domain09.pddl\n",
      "2018-10-06 02:36:54,926 INFO     Parsing Problem C:\\Users\\gdun9\\pipir-master\\benchmarks\\airport\\task09.pddl\n",
      "2018-10-06 02:36:54,931 INFO     12 Predicates parsed\n",
      "2018-10-06 02:36:54,932 INFO     122 Actions parsed\n",
      "2018-10-06 02:36:54,932 INFO     0 Objects parsed\n",
      "2018-10-06 02:36:54,933 INFO     49 Constants parsed\n",
      "2018-10-06 02:36:54,934 INFO     Grounding start: problem_x\n",
      "2018-10-06 02:36:54,971 INFO     Relevance analysis removed 208 facts\n",
      "2018-10-06 02:36:54,972 INFO     Grounding end: problem_x\n",
      "2018-10-06 02:36:54,973 INFO     554 Variables created\n",
      "2018-10-06 02:36:54,973 INFO     488 Operators created\n",
      "2018-10-06 02:36:54,978 INFO     Search start: problem_x\n",
      "2018-10-06 02:36:54,984 INFO     Initial h value: 20.000000\n",
      "2018-10-06 02:37:23,086 INFO     Goal reached. Start extraction of solution.\n",
      "2018-10-06 02:37:23,087 INFO     1910 Nodes expanded\n",
      "2018-10-06 02:37:23,097 INFO     Search end: problem_x\n",
      "2018-10-06 02:37:23,098 INFO     Wall-clock search time: 2.8e+01\n",
      "2018-10-06 02:37:23,100 INFO     Plan length: 71\n",
      "2018-10-06 02:37:23,104 INFO     validate could not be found on the PATH so the plan can not be validated.\n",
      "2018-10-06 02:37:23,114 INFO     Found domain C:\\Users\\gdun9\\pipir-master\\benchmarks\\airport\\domain11.pddl\n",
      "2018-10-06 02:37:23,115 INFO     using search: greedy_best_first_search\n",
      "2018-10-06 02:37:23,115 INFO     using heuristic: hMaxHeuristic\n",
      "2018-10-06 02:37:23,116 INFO     Parsing Domain C:\\Users\\gdun9\\pipir-master\\benchmarks\\airport\\domain11.pddl\n",
      "2018-10-06 02:37:23,208 INFO     Parsing Problem C:\\Users\\gdun9\\pipir-master\\benchmarks\\airport\\task11.pddl\n",
      "2018-10-06 02:37:23,210 INFO     12 Predicates parsed\n",
      "2018-10-06 02:37:23,211 INFO     140 Actions parsed\n",
      "2018-10-06 02:37:23,211 INFO     0 Objects parsed\n",
      "2018-10-06 02:37:23,212 INFO     50 Constants parsed\n",
      "2018-10-06 02:37:23,213 INFO     Grounding start: problem_x\n",
      "2018-10-06 02:37:23,221 INFO     Relevance analysis removed 89 facts\n"
     ]
    },
    {
     "name": "stdout",
     "output_type": "stream",
     "text": [
      "2018-10-06 02:37:23,222 INFO     Grounding end: problem_x\n",
      "2018-10-06 02:37:23,222 INFO     216 Variables created\n",
      "2018-10-06 02:37:23,223 INFO     140 Operators created\n",
      "2018-10-06 02:37:23,226 INFO     Search start: problem_x\n",
      "2018-10-06 02:37:23,227 INFO     Initial h value: 20.000000\n",
      "2018-10-06 02:37:23,242 INFO     Goal reached. Start extraction of solution.\n",
      "2018-10-06 02:37:23,243 INFO     22 Nodes expanded\n",
      "2018-10-06 02:37:23,243 INFO     Search end: problem_x\n",
      "2018-10-06 02:37:23,244 INFO     Wall-clock search time: 0.019\n",
      "2018-10-06 02:37:23,245 INFO     Plan length: 21\n",
      "2018-10-06 02:37:23,249 INFO     validate could not be found on the PATH so the plan can not be validated.\n"
     ]
    },
    {
     "data": {
      "text/plain": [
       "<Figure size 432x288 with 0 Axes>"
      ]
     },
     "metadata": {},
     "output_type": "display_data"
    }
   ],
   "source": [
    "ram5 = []\n",
    "times5 = []\n",
    "%run ./pipir-master/src/pyperplan.py -H hmax -s gbf pipir-master/benchmarks/airport/task01.pddl\n",
    "ram5.append(process.memory_info().rss / float(2 ** 20))\n",
    "times5.append(search_time)\n",
    "%run ./pipir-master/src/pyperplan.py -H hmax -s gbf pipir-master/benchmarks/airport/task03.pddl\n",
    "ram5.append(process.memory_info().rss / float(2 ** 20))\n",
    "times5.append(search_time)\n",
    "%run ./pipir-master/src/pyperplan.py -H hmax -s gbf pipir-master/benchmarks/airport/task05.pddl\n",
    "ram5.append(process.memory_info().rss / float(2 ** 20))\n",
    "times5.append(search_time)\n",
    "%run ./pipir-master/src/pyperplan.py -H hmax -s gbf pipir-master/benchmarks/airport/task07.pddl\n",
    "ram5.append(process.memory_info().rss / float(2 ** 20))\n",
    "times5.append(search_time)\n",
    "%run ./pipir-master/src/pyperplan.py -H hmax -s gbf pipir-master/benchmarks/airport/task09.pddl\n",
    "ram5.append(process.memory_info().rss / float(2 ** 20))\n",
    "times5.append(search_time)\n",
    "%run ./pipir-master/src/pyperplan.py -H hmax -s gbf pipir-master/benchmarks/airport/task11.pddl\n",
    "ram5.append(process.memory_info().rss / float(2 ** 20))\n",
    "times5.append(search_time)"
   ]
  },
  {
   "cell_type": "code",
   "execution_count": 14,
   "metadata": {},
   "outputs": [
    {
     "data": {
      "text/plain": [
       "Text(0,0.5,'RAM usage, MB')"
      ]
     },
     "execution_count": 14,
     "metadata": {},
     "output_type": "execute_result"
    },
    {
     "data": {
      "image/png": "[encoded data removed]",
      "text/plain": [
       "<Figure size 936x360 with 2 Axes>"
      ]
     },
     "metadata": {},
     "output_type": "display_data"
    }
   ],
   "source": [
    "plt5, (t, r) = plt.subplots(1, 2, figsize=(13, 5))\n",
    "t.plot(sizes, times5)\n",
    "r.plot(sizes, ram5)\n",
    "t.set_xlabel(\"Data size , KB\")\n",
    "t.set_ylabel(\"Time, s\")\n",
    "r.set_xlabel(\"Data size, KB\")\n",
    "r.set_ylabel(\"RAM usage, MB\")"
   ]
  },
  {
   "cell_type": "code",
   "execution_count": 16,
   "metadata": {},
   "outputs": [
    {
     "data": {
      "image/png": "[encoded data removed]",
      "text/plain": [
       "<Figure size 432x288 with 1 Axes>"
      ]
     },
     "metadata": {},
     "output_type": "display_data"
    }
   ],
   "source": [
    "plt.plot(sizes, times1)\n",
    "plt.plot(sizes, times2)\n",
    "plt.plot(sizes, times3)\n",
    "plt.plot(sizes, times4)\n",
    "plt.plot(sizes, times5)\n",
    "plt.legend(['blind astar', 'landmark wastar', 'hadd bfs', 'hff ehs', 'hmax gbf'], loc='upper left')\n",
    "plt.show()"
   ]
  }
 ],
 "metadata": {
  "kernelspec": {
   "display_name": "Python 3",
   "language": "python",
   "name": "python3"
  },
  "language_info": {
   "codemirror_mode": {
    "name": "ipython",
    "version": 3
   },
   "file_extension": ".py",
   "mimetype": "text/x-python",
   "name": "python",
   "nbconvert_exporter": "python",
   "pygments_lexer": "ipython3",
   "version": "3.6.5"
  }
 },
 "nbformat": 4,
 "nbformat_minor": 2
}
